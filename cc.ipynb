{
 "cells": [
  {
   "cell_type": "code",
   "execution_count": 2,
   "metadata": {
    "vscode": {
     "languageId": "r"
    }
   },
   "outputs": [
    {
     "name": "stderr",
     "output_type": "stream",
     "text": [
      "Warning message:\n",
      "\"package 'randomForest' was built under R version 4.3.3\"\n",
      "randomForest 4.7-1.1\n",
      "\n",
      "Type rfNews() to see new features/changes/bug fixes.\n",
      "\n",
      "\n",
      "Attaching package: 'dplyr'\n",
      "\n",
      "\n",
      "The following object is masked from 'package:randomForest':\n",
      "\n",
      "    combine\n",
      "\n",
      "\n",
      "The following objects are masked from 'package:stats':\n",
      "\n",
      "    filter, lag\n",
      "\n",
      "\n",
      "The following objects are masked from 'package:base':\n",
      "\n",
      "    intersect, setdiff, setequal, union\n",
      "\n",
      "\n"
     ]
    },
    {
     "ename": "ERROR",
     "evalue": "Error in read_csv(\"dataset/train.csv\"): could not find function \"read_csv\"\n",
     "output_type": "error",
     "traceback": [
      "Error in read_csv(\"dataset/train.csv\"): could not find function \"read_csv\"\nTraceback:\n",
      "1. mutate(read_csv(\"dataset/train.csv\"), Customer_Churn = as_factor(Customer_Churn))"
     ]
    }
   ],
   "source": [
    "library(randomForest)\n",
    "library(dplyr)\n",
    "\n",
    "training <- read_csv(\"dataset/train.csv\") |>\n",
    "    mutate(Customer_Churn = as_factor(Customer_Churn))\n",
    "testing <- read_csv(\"dataset/test.csv\") |>\n",
    "    mutate(Customer_Churn = as_factor(Customer_Churn))\n",
    "\n",
    "set.seed(12)\n",
    "# Data preprocessing\n",
    "# Drop unnecessary variables (if any)\n",
    "training1 <- training |>\n",
    "    select(Satisfaction_with_AI_Services, AI_Personalization_Effectiveness, AI_Response_Time, Overall_Usage_Frequency, Customer_Service_Interactions, Change_in_Usage_Patterns, Customer_Churn)  \n",
    "\n",
    "# Train the Random Forest model\n",
    "model <- randomForest(Customer_Churn ~ ., data = training1)\n",
    "\n",
    "# Model summary\n",
    "print(model)\n",
    "\n",
    "# Predictions on the test set\n",
    "predictions <- predict(model, newdata = testing)\n",
    "\n",
    "# Model evaluation\n",
    "accuracy <- mean(predictions == testing$Customer_Churn)\n",
    "print(paste(\"Accuracy:\", accuracy))\n",
    "\n",
    "# You can also evaluate other metrics like confusion matrix, ROC curve, etc.\n",
    "\n",
    "# Feature importance\n",
    "importance <- importance(model)\n",
    "print(importance)\n",
    "\n",
    "# Plot variable importance\n",
    "varImpPlot(model)\n"
   ]
  },
  {
   "cell_type": "code",
   "execution_count": null,
   "metadata": {
    "vscode": {
     "languageId": "r"
    }
   },
   "outputs": [],
   "source": [
    "\n",
    "predictions_numeric <- as.numeric(as.character(predictions)) / 1.0\n",
    "\n",
    "# Combine ID column with numeric predictions\n",
    "predictions_with_id <- data.frame(ID = testing$ID, Prediction = predictions_numeric)\n",
    "\n",
    "# Save the combined data frame as a CSV file\n",
    "write.csv(predictions_with_id, file = \"predictions_with_id.csv\", row.names = FALSE)\n",
    "\n",
    "CC:\n",
    "biscuits队好惨啊…试了9次成绩还在64.32…\n"
   ]
  }
 ],
 "metadata": {
  "kernelspec": {
   "display_name": "R",
   "language": "R",
   "name": "ir"
  },
  "language_info": {
   "codemirror_mode": "r",
   "file_extension": ".r",
   "mimetype": "text/x-r-source",
   "name": "R",
   "pygments_lexer": "r",
   "version": "4.3.1"
  }
 },
 "nbformat": 4,
 "nbformat_minor": 2
}
